{
 "cells": [
  {
   "cell_type": "code",
   "execution_count": 1,
   "metadata": {},
   "outputs": [],
   "source": [
    "from sklearn.model_selection import train_test_split\n",
    "import os\n",
    "import glob\n",
    "import cv2\n",
    "import numpy as np # linear algebra\n",
    "from skimage.io import imread\n",
    "from skimage.io import imsave\n",
    "from imageio import imwrite\n",
    "import matplotlib.pyplot as plt\n",
    "from skimage.segmentation import mark_boundaries\n",
    "from skimage.util import montage\n",
    "from skimage import img_as_ubyte\n",
    "montage_rgb = lambda x: np.stack([montage(x[:, :, :, i]) for i in range(x.shape[3])], -1)\n",
    "data_dir = '/media/diego/juan_escutia/MaskRCNN_datset/opencv_projects/SegmentObjectTrain/datasets/objects2019/'\n",
    "train_image_origin_dir = os.path.join(data_dir, 'train_original')\n",
    "train_image_dir = os.path.join(data_dir, 'train')\n",
    "val_image_dir = os.path.join(data_dir, 'val')\n",
    "backgrounds_dir = os.path.join(data_dir, 'backgrounds')\n",
    "import gc; gc.enable() # memory is tight\n",
    "from skimage.morphology import label"
   ]
  },
  {
   "cell_type": "code",
   "execution_count": 2,
   "metadata": {},
   "outputs": [],
   "source": [
    "BATCH_SIZE = 25\n",
    "EDGE_CROP = 2\n",
    "NB_EPOCHS = 20\n",
    "GAUSSIAN_NOISE = 0.2\n",
    "UPSAMPLE_MODE = 'DECONV'\n",
    "# downsampling inside the network\n",
    "NET_SCALING = None\n",
    "# downsampling in preprocessing\n",
    "#IMG_SCALING = (1, 1)\n",
    "IMG_SCALING = None\n",
    "# number of validation images to use\n",
    "VALID_IMG_COUNT = 400\n",
    "# maximum number of steps_per_epoch in training\n",
    "MAX_TRAIN_STEPS = 200\n",
    "AUGMENT_BRIGHTNESS = False"
   ]
  },
  {
   "cell_type": "code",
   "execution_count": 3,
   "metadata": {},
   "outputs": [],
   "source": [
    "def get_all_imgs():\n",
    "    img_path = os.path.join(train_image_origin_dir,'annotations')\n",
    "    images = glob.glob(os.path.join(img_path,'1*.*'))\n",
    "    return [image.split('/')[-1] for image in images]"
   ]
  },
  {
   "cell_type": "code",
   "execution_count": 4,
   "metadata": {},
   "outputs": [
    {
     "name": "stdout",
     "output_type": "stream",
     "text": [
      "10125\n",
      "3375\n"
     ]
    }
   ],
   "source": [
    "# print(get_all_imgs())\n",
    "TRAIN_IMGS, TEST_IMGS = train_test_split(get_all_imgs())\n",
    "print(len(TRAIN_IMGS))\n",
    "print(len(TEST_IMGS))"
   ]
  },
  {
   "cell_type": "code",
   "execution_count": 5,
   "metadata": {},
   "outputs": [],
   "source": [
    "import random\n",
    "def cv2_brightness_augment(img):\n",
    "    hsv = cv2.cvtColor(img,cv2.COLOR_RGB2HSV)\n",
    "    v = hsv[:,:,2]\n",
    "    seed = random.uniform(0.5,1.5)\n",
    "    v = (( v/255.0 ) * seed)*255.0\n",
    "    hsv[:,:,2] = np.array(np.clip(v,0,255),dtype=np.uint8)\n",
    "    rgb_final = cv2.cvtColor(hsv,cv2.COLOR_HSV2RGB)\n",
    "    return rgb_final"
   ]
  },
  {
   "cell_type": "code",
   "execution_count": 6,
   "metadata": {},
   "outputs": [],
   "source": [
    "def make_image_gen(img_file_list=TRAIN_IMGS, batch_size = BATCH_SIZE):\n",
    "    all_batches = TRAIN_IMGS\n",
    "    out_rgb = []\n",
    "    out_mask = []\n",
    "    out_classes = []\n",
    "    img_path = os.path.join(train_image_origin_dir,'images')\n",
    "    mask_path = os.path.join(train_image_origin_dir,'annotations')\n",
    "    #Not repeat the batches\n",
    "    #while True:\n",
    "    #I Think tha this is slow, comment and generate the random shuffle in main init call\n",
    "    #np.random.shuffle(all_batches)\n",
    "    for c_img_id in all_batches:\n",
    "        c_img_name_split = c_img_id.split('_')\n",
    "        c_img_class = c_img_id.split('-')[1]\n",
    "        c_img_name = c_img_id.split('-')[0] + \".\"  + c_img_id.split('-')[2].split('.')[1]\n",
    "        c_img = imread(os.path.join(img_path,c_img_name))\n",
    "        c_img = cv2_brightness_augment(c_img)\n",
    "        c_mask = imread(os.path.join(mask_path,c_img_id))\n",
    "        if IMG_SCALING is not None:\n",
    "            c_img = cv2.resize(c_img,(256,256),interpolation = cv2.INTER_AREA)\n",
    "            c_mask = cv2.resize(c_mask,(256,256),interpolation = cv2.INTER_AREA)\n",
    "        c_mask = np.reshape(c_mask,(c_mask.shape[0],c_mask.shape[1],-1))\n",
    "        c_mask = c_mask > 0\n",
    "        out_rgb += [c_img]\n",
    "        out_mask += [c_mask]\n",
    "        out_classes += [c_img_class]\n",
    "        if len(out_mask)>=batch_size:\n",
    "            yield np.stack(out_rgb, 0)/255.0, np.stack(out_mask, 0), out_classes\n",
    "            out_rgb, out_mask, out_classes=[], [], []"
   ]
  },
  {
   "cell_type": "code",
   "execution_count": 8,
   "metadata": {},
   "outputs": [],
   "source": [
    "#np.random.shuffle(TRAIN_IMGS)\n",
    "train_gen = make_image_gen()"
   ]
  },
  {
   "cell_type": "code",
   "execution_count": 7,
   "metadata": {},
   "outputs": [
    {
     "ename": "NameError",
     "evalue": "name 'train_gen' is not defined",
     "output_type": "error",
     "traceback": [
      "\u001b[0;31m---------------------------------------------------------------------------\u001b[0m",
      "\u001b[0;31mNameError\u001b[0m                                 Traceback (most recent call last)",
      "\u001b[0;32m<ipython-input-7-7aed514552c0>\u001b[0m in \u001b[0;36m<module>\u001b[0;34m\u001b[0m\n\u001b[0;32m----> 1\u001b[0;31m \u001b[0mtrain_x\u001b[0m\u001b[0;34m,\u001b[0m \u001b[0mtrain_y\u001b[0m\u001b[0;34m,\u001b[0m \u001b[0mimg_class\u001b[0m \u001b[0;34m=\u001b[0m \u001b[0mnext\u001b[0m\u001b[0;34m(\u001b[0m\u001b[0mtrain_gen\u001b[0m\u001b[0;34m)\u001b[0m\u001b[0;34m\u001b[0m\u001b[0;34m\u001b[0m\u001b[0m\n\u001b[0m\u001b[1;32m      2\u001b[0m \u001b[0mprint\u001b[0m\u001b[0;34m(\u001b[0m\u001b[0;34m'x'\u001b[0m\u001b[0;34m,\u001b[0m \u001b[0mtrain_x\u001b[0m\u001b[0;34m.\u001b[0m\u001b[0mshape\u001b[0m\u001b[0;34m,\u001b[0m \u001b[0mtrain_x\u001b[0m\u001b[0;34m.\u001b[0m\u001b[0mmin\u001b[0m\u001b[0;34m(\u001b[0m\u001b[0;34m)\u001b[0m\u001b[0;34m,\u001b[0m \u001b[0mtrain_x\u001b[0m\u001b[0;34m.\u001b[0m\u001b[0mmax\u001b[0m\u001b[0;34m(\u001b[0m\u001b[0;34m)\u001b[0m\u001b[0;34m)\u001b[0m\u001b[0;34m\u001b[0m\u001b[0;34m\u001b[0m\u001b[0m\n\u001b[1;32m      3\u001b[0m \u001b[0mprint\u001b[0m\u001b[0;34m(\u001b[0m\u001b[0;34m'y'\u001b[0m\u001b[0;34m,\u001b[0m \u001b[0mtrain_y\u001b[0m\u001b[0;34m.\u001b[0m\u001b[0mshape\u001b[0m\u001b[0;34m,\u001b[0m \u001b[0mtrain_y\u001b[0m\u001b[0;34m.\u001b[0m\u001b[0mmin\u001b[0m\u001b[0;34m(\u001b[0m\u001b[0;34m)\u001b[0m\u001b[0;34m,\u001b[0m \u001b[0mtrain_y\u001b[0m\u001b[0;34m.\u001b[0m\u001b[0mmax\u001b[0m\u001b[0;34m(\u001b[0m\u001b[0;34m)\u001b[0m\u001b[0;34m)\u001b[0m\u001b[0;34m\u001b[0m\u001b[0;34m\u001b[0m\u001b[0m\n\u001b[1;32m      4\u001b[0m \u001b[0mprint\u001b[0m\u001b[0;34m(\u001b[0m\u001b[0mimg_class\u001b[0m\u001b[0;34m)\u001b[0m\u001b[0;34m\u001b[0m\u001b[0;34m\u001b[0m\u001b[0m\n\u001b[1;32m      5\u001b[0m \u001b[0mfig\u001b[0m\u001b[0;34m,\u001b[0m \u001b[0;34m(\u001b[0m\u001b[0max1\u001b[0m\u001b[0;34m,\u001b[0m \u001b[0max2\u001b[0m\u001b[0;34m,\u001b[0m \u001b[0max3\u001b[0m\u001b[0;34m)\u001b[0m \u001b[0;34m=\u001b[0m \u001b[0mplt\u001b[0m\u001b[0;34m.\u001b[0m\u001b[0msubplots\u001b[0m\u001b[0;34m(\u001b[0m\u001b[0;36m1\u001b[0m\u001b[0;34m,\u001b[0m \u001b[0;36m3\u001b[0m\u001b[0;34m,\u001b[0m \u001b[0mfigsize\u001b[0m \u001b[0;34m=\u001b[0m \u001b[0;34m(\u001b[0m\u001b[0;36m30\u001b[0m\u001b[0;34m,\u001b[0m \u001b[0;36m10\u001b[0m\u001b[0;34m)\u001b[0m\u001b[0;34m)\u001b[0m\u001b[0;34m\u001b[0m\u001b[0;34m\u001b[0m\u001b[0m\n",
      "\u001b[0;31mNameError\u001b[0m: name 'train_gen' is not defined"
     ]
    }
   ],
   "source": [
    "train_x, train_y, img_class = next(train_gen)\n",
    "print('x', train_x.shape, train_x.min(), train_x.max())\n",
    "print('y', train_y.shape, train_y.min(), train_y.max())\n",
    "print(img_class)\n",
    "fig, (ax1, ax2, ax3) = plt.subplots(1, 3, figsize = (30, 10))\n",
    "batch_rgb = montage_rgb(train_x)\n",
    "batch_seg = montage(train_y[:, :, :, 0])\n",
    "ax1.imshow(batch_rgb)\n",
    "ax1.set_title('Images')\n",
    "ax2.imshow(batch_seg, cmap='gray')\n",
    "ax2.set_title('Segmentations')\n",
    "ax3.imshow(mark_boundaries(batch_rgb, \n",
    "                           batch_seg.astype(int)))\n",
    "ax3.set_title('Outlined Smokes')\n",
    "fig.savefig('overview.png')"
   ]
  },
  {
   "cell_type": "code",
   "execution_count": null,
   "metadata": {},
   "outputs": [],
   "source": [
    "#valid_x, valid_y, valid_class = next(make_image_gen(TEST_IMGS,len(TEST_IMGS)))\n",
    "#print(valid_x.shape, valid_y.shape, valid_class)\n",
    "val_gen = make_image_gen(TEST_IMGS, BATCH_SIZE)"
   ]
  },
  {
   "cell_type": "code",
   "execution_count": null,
   "metadata": {},
   "outputs": [],
   "source": [
    "from keras.preprocessing.image import ImageDataGenerator\n",
    "dg_args = dict(featurewise_center = False, \n",
    "                  samplewise_center = False,\n",
    "                  rotation_range = 30, \n",
    "                  width_shift_range = 0.05, \n",
    "                  height_shift_range = 0.05, \n",
    "                  shear_range = 0.01,\n",
    "                  zoom_range = [0.7, 1.75],  \n",
    "                  horizontal_flip = False, \n",
    "                  vertical_flip = False,\n",
    "                  fill_mode = 'constant',\n",
    "                  data_format = 'channels_last',\n",
    "                  validation_split=0.2)\n",
    "# brightness can be problematic since it seems to change the labels differently from the images \n",
    "if AUGMENT_BRIGHTNESS:\n",
    "    dg_args[' brightness_range'] = [0.5, 1.5]\n",
    "image_gen = ImageDataGenerator(**dg_args)\n",
    "\n",
    "if AUGMENT_BRIGHTNESS:\n",
    "    dg_args.pop('brightness_range')\n",
    "label_gen = ImageDataGenerator(**dg_args)\n",
    "\n",
    "def create_aug_gen(in_gen, seed = None):\n",
    "    np.random.seed(seed if seed is not None else np.random.choice(range(9999)))\n",
    "    for in_x, in_y, in_class in in_gen:\n",
    "        seed = np.random.choice(range(9999))\n",
    "        #print seed\n",
    "        # keep the seeds syncronized otherwise the augmentation to the images is different from the masks\n",
    "        g_x = image_gen.flow(255*in_x, \n",
    "                             batch_size = in_x.shape[0], \n",
    "                             seed = seed, \n",
    "                             shuffle=False)\n",
    "        g_y = label_gen.flow(in_y, \n",
    "                             batch_size = in_x.shape[0], \n",
    "                             seed = seed, \n",
    "                             shuffle=False)\n",
    "\n",
    "        yield next(g_x)/255.0, next(g_y), in_class"
   ]
  },
  {
   "cell_type": "code",
   "execution_count": null,
   "metadata": {},
   "outputs": [],
   "source": [
    "images_backgrounds = glob.glob(os.path.join(backgrounds_dir,'*.*'))\n",
    "background_images = []\n",
    "for image_background in images_backgrounds:\n",
    "    background_image = imread(image_background)\n",
    "    background_images += [background_image]\n",
    "#print (random.randint(0,len(images_backgrounds)))\n",
    "#print (len(background_images))"
   ]
  },
  {
   "cell_type": "code",
   "execution_count": null,
   "metadata": {},
   "outputs": [],
   "source": [
    "def getNextName(image_dir,name_dir):\n",
    "    img_path = os.path.join(image_dir, name_dir)\n",
    "    images = glob.glob(os.path.join(img_path,'2*.*'))\n",
    "    if len(images) > 0:\n",
    "        images = [os.path.splitext(image.split('/')[-1])[0] for image in images]\n",
    "        return int(max(images))\n",
    "    return 2000000"
   ]
  },
  {
   "cell_type": "code",
   "execution_count": null,
   "metadata": {
    "scrolled": true
   },
   "outputs": [],
   "source": [
    "cur_gen = create_aug_gen(train_gen)\n",
    "count = 0\n",
    "\n",
    "t_x = []\n",
    "t_y = []\n",
    "in_class = []\n",
    "initCount = getNextName(train_image_dir, 'images')\n",
    "\n",
    "img_path = os.path.join(train_image_dir,'images')\n",
    "mask_path = os.path.join(train_image_dir,'annotations')\n",
    "\n",
    "while True:\n",
    "    try:\n",
    "        t_x, t_y, in_classes = next(cur_gen)\n",
    "        for index in range(len(t_x)):\n",
    "            image = img_as_ubyte(t_x[index][...,::-1])\n",
    "            maskImg = t_y[:, :, :, 0][index]   \n",
    "            maskImg = np.reshape(maskImg,(maskImg.shape[0],maskImg.shape[1],-1))\n",
    "            maskImg = maskImg > 0\n",
    "            mask = img_as_ubyte(maskImg)\n",
    "            mask_inv = cv2.bitwise_not(mask)\n",
    "            img1_bg = background_images[random.randint(0,len(images_backgrounds) - 1)][...,::-1]\n",
    "            img1_bg = cv2.resize(img1_bg, (image.shape[1], image.shape[0]), interpolation = cv2.INTER_AREA)\n",
    "            img1_bg = cv2.bitwise_and(img1_bg, img1_bg, mask = mask_inv)\n",
    "            img1_fg = cv2.bitwise_and(image, image, mask = mask)\n",
    "            scene_image = cv2.add(img1_fg, img1_bg)\n",
    "            cv2.imwrite(os.path.join(img_path, str(initCount) + \".png\"), scene_image)\n",
    "            imwrite(os.path.join(mask_path, str(initCount) + \"-\" + in_classes[index] + \"-0.png\"),t_y[:, :, :, 0][index])\n",
    "            initCount += 1\n",
    "        gc.collect()\n",
    "    except StopIteration:\n",
    "        break"
   ]
  },
  {
   "cell_type": "code",
   "execution_count": null,
   "metadata": {},
   "outputs": [],
   "source": [
    "gc.collect()"
   ]
  },
  {
   "cell_type": "code",
   "execution_count": null,
   "metadata": {
    "scrolled": true
   },
   "outputs": [],
   "source": [
    "cur_gen = create_aug_gen(val_gen)\n",
    "count = 0\n",
    "\n",
    "v_x = []\n",
    "v_y = []\n",
    "in_class = []\n",
    "\n",
    "initCount = 2000000\n",
    "\n",
    "img_path = os.path.join(val_image_dir,'images')\n",
    "mask_path = os.path.join(val_image_dir,'annotations')\n",
    "\n",
    "while True:\n",
    "    try:\n",
    "        v_x, v_y, in_classes = next(cur_gen)\n",
    "        for index in range(len(v_x)):\n",
    "            image = img_as_ubyte(v_x[index][...,::-1])\n",
    "            maskImg = v_y[:, :, :, 0][index]   \n",
    "            maskImg = np.reshape(maskImg,(maskImg.shape[0],maskImg.shape[1],-1))\n",
    "            maskImg = maskImg > 0\n",
    "            mask = img_as_ubyte(maskImg)     \n",
    "            mask_inv = cv2.bitwise_not(mask)\n",
    "            img1_bg = background_images[random.randint(0,len(images_backgrounds) - 1)][...,::-1]\n",
    "            img1_bg = cv2.resize(img1_bg, (image.shape[1], image.shape[0]), interpolation = cv2.INTER_AREA)\n",
    "            img1_bg = cv2.bitwise_and(img1_bg, img1_bg, mask = mask_inv)\n",
    "            img1_fg = cv2.bitwise_and(image, image, mask = mask)\n",
    "            scene_image = cv2.add(img1_fg, img1_bg)\n",
    "            cv2.imwrite(os.path.join(img_path, str(initCount) + \".png\"), scene_image)\n",
    "            imwrite(os.path.join(mask_path, str(initCount) + \"-\" + in_classes[index] + \"-0.png\"),v_y[:, :, :, 0][index])\n",
    "            initCount += 1\n",
    "        gc.collect()\n",
    "    except StopIteration:\n",
    "        break"
   ]
  },
  {
   "cell_type": "code",
   "execution_count": 36,
   "metadata": {},
   "outputs": [
    {
     "name": "stdout",
     "output_type": "stream",
     "text": [
      "1\n"
     ]
    }
   ],
   "source": [
    "print(1)"
   ]
  }
 ],
 "metadata": {
  "kernelspec": {
   "display_name": "Python 3",
   "language": "python",
   "name": "python3"
  },
  "language_info": {
   "codemirror_mode": {
    "name": "ipython",
    "version": 3
   },
   "file_extension": ".py",
   "mimetype": "text/x-python",
   "name": "python",
   "nbconvert_exporter": "python",
   "pygments_lexer": "ipython3",
   "version": "3.6.7"
  }
 },
 "nbformat": 4,
 "nbformat_minor": 2
}
